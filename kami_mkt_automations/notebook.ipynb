{
 "cells": [
  {
   "cell_type": "code",
   "execution_count": null,
   "metadata": {},
   "outputs": [],
   "source": [
    "from database import get_dataframe_from_sql_query\n",
    "from datetime import datetime as dt, timedelta as td\n",
    "from constant import BEEXP_SCRIPT, ORDER_ITEM_DATE_COLS\n",
    "from messages import send_messages_by_group\n",
    "first_update = dt.now() - td(days=7)\n",
    "current_update = first_update\n",
    "last_update = first_update\n",
    "def get_beexp_since(ordered_date):\n",
    "    oders_df = get_dataframe_from_sql_query(\n",
    "    sql_script=BEEXP_SCRIPT,\n",
    "    date_cols=ORDER_ITEM_DATE_COLS\n",
    "    )\n",
    "    mask = (oders_df['dt_implant'] >= ordered_date)\n",
    "    return oders_df.loc[mask]\n",
    "\n",
    "beexp_df = get_beexp_since(current_update)\n",
    "products = [f\"Quantidade de Ingressos: [dado] Nome do Vendedor: [dado] Tipo de Ingresso: [dado] Valor faturado: [dado] Forma de pagamento: [dado] Código do cliente: [dado] Data da venda: [dado] E-mail do representante: [dado] O respectivo vendedor já recebeu o link de cadastro do participante.\" for cod in ]\n",
    "send_messages_by_group(\n",
    "        message_body=products, group='comercial'\n",
    ")"
   ]
  },
  {
   "cell_type": "code",
   "execution_count": null,
   "metadata": {},
   "outputs": [],
   "source": [
    "script = 'data/in/beexp_orders.sql'\n",
    "from database import get_dataframe_from_sql\n",
    "beexp_df = get_dataframe_from_sql(script)     \n",
    "beexp_filtered_df = beexp_df[['qtd', 'nome_colaborador', 'desc_comercial', 'preco_total', 'cond_pgto', 'cod_cliente', 'nome_cliente', 'dt_implant', 'email_colaborador']]"
   ]
  },
  {
   "cell_type": "code",
   "execution_count": null,
   "metadata": {},
   "outputs": [],
   "source": [
    "from mkt_automation import get_beexp_since, get_beexp_manager_message\n",
    "from datetime import datetime as dt, timedelta as td\n",
    "from messages import send_messages_by_group\n",
    "first_update = dt.now() - td(days=7)\n",
    "current_update = first_update\n",
    "last_update = first_update\n",
    "\n",
    "beexp_df = get_beexp_since(current_update)\n",
    "beexp_df = beexp_df[['qtd', 'nome_colaborador', 'desc_comercial', 'preco_total', 'cond_pgto', 'cod_cliente', 'nome_cliente', 'dt_implant', 'email_colaborador']]\n",
    "for row in beexp_df.itertuples():\n",
    "  beexp_message = get_beexp_manager_message(row)\n",
    "  send_messages_by_group(message_body=beexp_message, group='beexp_manager')"
   ]
  },
  {
   "cell_type": "code",
   "execution_count": null,
   "metadata": {},
   "outputs": [],
   "source": [
    "import polars as pl\n",
    "sellers_df = pl.read_csv('data/in/vendedores.csv', separator=';')\n",
    "sellers_df = sellers_df.select(\n",
    "    pl.col('cod_colaborador'),\n",
    "    pl.col('nome_colaborador'),\n",
    "    pl.col('ddd_celular').cast(pl.Utf8).alias('ddd_celular'),\n",
    "    pl.col('celular').cast(pl.Utf8).alias('celular'),\n",
    "    pl.col('ddd_1').cast(pl.Utf8).alias('ddd_1'),\n",
    "    pl.col('telefone_1').cast(pl.Utf8).alias('telefone_1'),\n",
    "    pl.col('email')\n",
    ")"
   ]
  },
  {
   "cell_type": "code",
   "execution_count": null,
   "metadata": {},
   "outputs": [],
   "source": [
    "sellers_contacts = sellers_df.with_columns([\n",
    "    pl.when((\n",
    "        pl.col('ddd_celular').is_not_null()) & (pl.col('celular').is_not_null()))\n",
    "    .then(pl.map(['ddd_celular', 'celular'], lambda s: '+55'+s[0]+s[1]))\n",
    "    .otherwise(None)\n",
    "    .alias('cellphone')    \n",
    "])\n",
    "\n",
    "sellers_contacts = sellers_contacts.with_columns([\n",
    "    pl.when((\n",
    "        pl.col('ddd_1').is_not_null()) & (pl.col('telefone_1').is_not_null()))\n",
    "    .then(pl.map(['ddd_1', 'telefone_1'], lambda s: '+55'+s[0]+s[1]))\n",
    "    .otherwise(None)\n",
    "    .alias('phonenumber')\n",
    "])\n",
    "\n",
    "sellers_contacts = sellers_contacts.with_columns([\n",
    "    pl.when(pl.col('cellphone').is_not_null())\n",
    "    .then(pl.col('cellphone'))    \n",
    "    .otherwise(None)\n",
    "    .alias('phone')\n",
    "])\n",
    "\n",
    "sellers_contacts = sellers_contacts.with_columns([\n",
    "    pl.when(pl.col('phone').is_not_null())\n",
    "    .then(pl.col('phone'))    \n",
    "    .otherwise(pl.col('phonenumber'))\n",
    "    .alias('phone')\n",
    "])\n",
    "\n",
    "sellers_contacts = sellers_contacts.drop_nulls(['phone']).select(pl.col(['cod_colaborador', 'nome_colaborador','phone','email']))\n",
    "\n",
    "sellers_contacts = sellers_contacts.with_columns([\n",
    "    pl.when(pl.col('cod_colaborador').is_not_null())\n",
    "    .then(pl.lit(\"['beexp_seller']\"))    \n",
    "    .otherwise(pl.lit(\"['beexp_seller']\"))\n",
    "    .alias('groups')\n",
    "])\n",
    "\n",
    "sellers_contacts.columns = ['uno_id', 'name', 'phone', 'email', 'groups']"
   ]
  },
  {
   "cell_type": "code",
   "execution_count": null,
   "metadata": {},
   "outputs": [],
   "source": [
    "sellers_contacts.write_json('messages/sellers_contacts.json', row_oriented=True)"
   ]
  },
  {
   "cell_type": "code",
   "execution_count": null,
   "metadata": {},
   "outputs": [],
   "source": [
    "sellers_contacts_bot_conversa = sellers_contacts.select(pl.col(['phone', 'name', 'uno_id']))\n",
    "sellers_contacts_bot_conversa = sellers_contacts_bot_conversa.with_columns([\n",
    "    pl.when(pl.col('uno_id').is_not_null())\n",
    "    .then(pl.col('uno_id').cast(pl.Utf8).apply(lambda x: f\"__uno__.sg_colaborador.{x}\"))\n",
    "    .otherwise(pl.lit(None))\n",
    "    .alias('etiquetas')\n",
    "]).select(pl.col(['phone', 'name', 'etiquetas']))\n",
    "sellers_contacts_bot_conversa.columns = ['telefone', 'nome', 'etiquetas']"
   ]
  },
  {
   "cell_type": "code",
   "execution_count": null,
   "metadata": {},
   "outputs": [],
   "source": [
    "sellers_contacts_bot_conversa.write_excel('data/out/vendedores_uno_botconversa.xlsx')"
   ]
  },
  {
   "cell_type": "code",
   "execution_count": null,
   "metadata": {},
   "outputs": [],
   "source": [
    "script = 'data/in/contact_sellers.sql'\n",
    "from database import get_dataframe_from_sql\n",
    "contact_sellers = get_dataframe_from_sql(script)\n",
    "contact_sellers['groups'] = 'beexp_seller'"
   ]
  },
  {
   "cell_type": "code",
   "execution_count": null,
   "metadata": {},
   "outputs": [],
   "source": [
    "from dataclasses import dataclass\n",
    "from typing import List\n",
    "\n",
    "@dataclass\n",
    "class Contact:\n",
    "\n",
    "    id: str\n",
    "    name: str\n",
    "    email: str\n",
    "    phone: str\n",
    "    groups: List[str]\n",
    "contacts = contact_sellers.apply(lambda row: Contact(**row), axis=1)"
   ]
  },
  {
   "cell_type": "code",
   "execution_count": null,
   "metadata": {},
   "outputs": [],
   "source": [
    "for contact in contacts:\n",
    "    contact.groups = [contact.groups]"
   ]
  },
  {
   "cell_type": "code",
   "execution_count": null,
   "metadata": {},
   "outputs": [],
   "source": [
    "from messages import get_contact_by_id, get_sellers_contacts_from_database, generate_message_by_template, send_message_by_messenger, send_message_by_all_messengers, send_message_by_group, send_message_by_seller_id\n",
    "\n",
    "sellers_contacts = get_sellers_contacts_from_database()"
   ]
  },
  {
   "cell_type": "code",
   "execution_count": null,
   "metadata": {},
   "outputs": [],
   "source": [
    "from messages import get_contacts_from_json, send_message_by_group\n",
    "contacts = get_contacts_from_json('messages/contacts.json')\n",
    "send_message_by_group(\n",
    "    'beexp_manager',\n",
    "    'test',\n",
    "    {'subject': 'Vendas BEEXP', 'beexp_order': 'teste: t, data: d, tudo ok'},\n",
    "    contacts\n",
    ")"
   ]
  },
  {
   "cell_type": "code",
   "execution_count": null,
   "metadata": {},
   "outputs": [],
   "source": [
    "from database import get_dataframe_from_sql\n",
    "def get_last_beexp_order():\n",
    "    return get_dataframe_from_sql('data/in/last_beexp_order.sql')['ultimo_pedido'][0].to_pydatetime()"
   ]
  },
  {
   "cell_type": "code",
   "execution_count": 1,
   "metadata": {},
   "outputs": [],
   "source": [
    "from datetime import datetime, timedelta\n",
    "from kami_logging import logging_with, benchmark_with\n",
    "import logging\n",
    "mkt_automation_logger = logging.getLogger('mkt_autmation')\n",
    "from mkt_automation import delivery_messages, get_beexp_since\n",
    "logging_with(mkt_automation_logger)\n",
    "def alert_beexp_order():\n",
    "    first_update = datetime.now() - timedelta(days=1)#get_last_beexp_order()\n",
    "    current_update = datetime.now()#get_last_beexp_order()\n",
    "    if current_update > first_update:\n",
    "        beexp_orders_df = get_beexp_since(datetime.now() - timedelta(days=30))\n",
    "        delivery_messages(beexp_orders_df)\n"
   ]
  },
  {
   "cell_type": "code",
   "execution_count": 2,
   "metadata": {},
   "outputs": [
    {
     "name": "stderr",
     "output_type": "stream",
     "text": [
      "2023-08-30 11:42:10 - [mkt_autmation] [INFO]: Calling get_beexp_since\n",
      "2023-08-30 11:42:10 - [database] [INFO]: Calling get_dataframe_from_sql\n",
      "2023-08-30 11:42:10 - [database] [INFO]: Calling get_dataframe_from_sql_file\n",
      "2023-08-30 11:42:10 - [database] [INFO]: Finished Calling get_dataframe_from_sql_file\n",
      "2023-08-30 11:42:10 - [database] [INFO]: Execution of get_dataframe_from_sql_file took 0.195.\n",
      "2023-08-30 11:42:10 - [database] [INFO]: Finished Calling get_dataframe_from_sql\n",
      "2023-08-30 11:42:10 - [database] [INFO]: Execution of get_dataframe_from_sql took 0.198.\n",
      "2023-08-30 11:42:10 - [mkt_autmation] [INFO]: Finished Calling get_beexp_since\n",
      "2023-08-30 11:42:10 - [mkt_autmation] [INFO]: Execution of get_beexp_since took 0.202.\n",
      "2023-08-30 11:42:10 - [mkt_autmation] [INFO]: Calling delivery_messages\n",
      "2023-08-30 11:42:10 - [mkt_autmation] [INFO]: Calling delivery_sellers_message\n",
      "2023-08-30 11:42:10 - [messages_generator] [INFO]: Calling send_message_by_seller_id\n",
      "2023-08-30 11:42:10 - [messages_generator] [INFO]: Calling get_sellers_contacts_from_database\n",
      "2023-08-30 11:42:10 - [database] [INFO]: Calling get_dataframe_from_sql\n",
      "2023-08-30 11:42:10 - [database] [INFO]: Calling get_dataframe_from_sql_file\n",
      "2023-08-30 11:42:10 - [database] [INFO]: Finished Calling get_dataframe_from_sql_file\n",
      "2023-08-30 11:42:10 - [database] [INFO]: Execution of get_dataframe_from_sql_file took 0.164.\n",
      "2023-08-30 11:42:10 - [database] [INFO]: Finished Calling get_dataframe_from_sql\n",
      "2023-08-30 11:42:10 - [database] [INFO]: Execution of get_dataframe_from_sql took 0.166.\n",
      "2023-08-30 11:42:10 - [messages_generator] [INFO]: Execution of get_sellers_contacts_from_database took 0.170.\n",
      "2023-08-30 11:42:10 - [messages_generator] [INFO]: Finished Calling get_sellers_contacts_from_database\n",
      "2023-08-30 11:42:10 - [messages_generator] [INFO]: Calling filter_contact_by_group\n",
      "2023-08-30 11:42:10 - [messages_generator] [INFO]: Finished Calling filter_contact_by_group\n",
      "2023-08-30 11:42:10 - [messages_generator] [INFO]: Calling get_contact_by_id\n",
      "2023-08-30 11:42:10 - [messages_generator] [ERROR]: There is no contact for the given id! given id = 3346\n",
      "2023-08-30 11:42:10 - [messages_generator] [INFO]: Execution of get_contact_by_id took 0.001.\n",
      "2023-08-30 11:42:10 - [messages_generator] [INFO]: Finished Calling get_contact_by_id\n",
      "2023-08-30 11:42:10 - [messages_generator] [INFO]: Calling generate_message_by_template\n"
     ]
    },
    {
     "ename": "AttributeError",
     "evalue": "'NoneType' object has no attribute 'name'",
     "output_type": "error",
     "traceback": [
      "\u001b[0;31m---------------------------------------------------------------------------\u001b[0m",
      "\u001b[0;31mAttributeError\u001b[0m                            Traceback (most recent call last)",
      "Cell \u001b[0;32mIn[2], line 1\u001b[0m\n\u001b[0;32m----> 1\u001b[0m alert_beexp_order()\n",
      "Cell \u001b[0;32mIn[1], line 12\u001b[0m, in \u001b[0;36malert_beexp_order\u001b[0;34m()\u001b[0m\n\u001b[1;32m     10\u001b[0m \u001b[39mif\u001b[39;00m current_update \u001b[39m>\u001b[39m first_update:\n\u001b[1;32m     11\u001b[0m     beexp_orders_df \u001b[39m=\u001b[39m get_beexp_since(datetime\u001b[39m.\u001b[39mnow() \u001b[39m-\u001b[39m timedelta(days\u001b[39m=\u001b[39m\u001b[39m30\u001b[39m))\n\u001b[0;32m---> 12\u001b[0m     delivery_messages(beexp_orders_df)\n",
      "File \u001b[0;32m/home/devkami/pythonmations/kami-reports/kami_reports/venv/lib/python3.10/site-packages/kami_logging/kami_logging.py:49\u001b[0m, in \u001b[0;36mlogging_with.<locals>.decorator.<locals>.wrapper\u001b[0;34m(*args, **kwargs)\u001b[0m\n\u001b[1;32m     46\u001b[0m \u001b[39m@functools\u001b[39m\u001b[39m.\u001b[39mwraps(func)\n\u001b[1;32m     47\u001b[0m \u001b[39mdef\u001b[39;00m \u001b[39mwrapper\u001b[39m(\u001b[39m*\u001b[39margs: Any, \u001b[39m*\u001b[39m\u001b[39m*\u001b[39mkwargs: Any) \u001b[39m-\u001b[39m\u001b[39m>\u001b[39m Any:\n\u001b[1;32m     48\u001b[0m     logger\u001b[39m.\u001b[39minfo(\u001b[39mf\u001b[39m\u001b[39m'\u001b[39m\u001b[39mCalling \u001b[39m\u001b[39m{\u001b[39;00mfunc\u001b[39m.\u001b[39m\u001b[39m__name__\u001b[39m\u001b[39m}\u001b[39;00m\u001b[39m'\u001b[39m)\n\u001b[0;32m---> 49\u001b[0m     result \u001b[39m=\u001b[39m func(\u001b[39m*\u001b[39;49margs, \u001b[39m*\u001b[39;49m\u001b[39m*\u001b[39;49mkwargs)\n\u001b[1;32m     50\u001b[0m     logger\u001b[39m.\u001b[39minfo(\u001b[39mf\u001b[39m\u001b[39m'\u001b[39m\u001b[39mFinished Calling \u001b[39m\u001b[39m{\u001b[39;00mfunc\u001b[39m.\u001b[39m\u001b[39m__name__\u001b[39m\u001b[39m}\u001b[39;00m\u001b[39m'\u001b[39m)\n\u001b[1;32m     51\u001b[0m     \u001b[39mreturn\u001b[39;00m result\n",
      "File \u001b[0;32m/home/devkami/pythonmations/kami-reports/kami_reports/mkt_automation.py:67\u001b[0m, in \u001b[0;36mdelivery_messages\u001b[0;34m(beexp_orders_df)\u001b[0m\n\u001b[1;32m     65\u001b[0m \u001b[39m@logging_with\u001b[39m(mkt_automation_logger)\n\u001b[1;32m     66\u001b[0m \u001b[39mdef\u001b[39;00m \u001b[39mdelivery_messages\u001b[39m(beexp_orders_df):\n\u001b[0;32m---> 67\u001b[0m     delivery_sellers_message(beexp_orders_df)\n\u001b[1;32m     68\u001b[0m     delivery_managers_message(beexp_orders_df)\n",
      "File \u001b[0;32m/home/devkami/pythonmations/kami-reports/kami_reports/venv/lib/python3.10/site-packages/kami_logging/kami_logging.py:31\u001b[0m, in \u001b[0;36mbenchmark_with.<locals>.decorator.<locals>.wrapper\u001b[0;34m(*args, **kwargs)\u001b[0m\n\u001b[1;32m     28\u001b[0m \u001b[39m@functools\u001b[39m\u001b[39m.\u001b[39mwraps(func)\n\u001b[1;32m     29\u001b[0m \u001b[39mdef\u001b[39;00m \u001b[39mwrapper\u001b[39m(\u001b[39m*\u001b[39margs: Any, \u001b[39m*\u001b[39m\u001b[39m*\u001b[39mkwargs: Any) \u001b[39m-\u001b[39m\u001b[39m>\u001b[39m Any:\n\u001b[1;32m     30\u001b[0m     start \u001b[39m=\u001b[39m perf_counter()\n\u001b[0;32m---> 31\u001b[0m     result \u001b[39m=\u001b[39m func(\u001b[39m*\u001b[39;49margs, \u001b[39m*\u001b[39;49m\u001b[39m*\u001b[39;49mkwargs)\n\u001b[1;32m     32\u001b[0m     end \u001b[39m=\u001b[39m perf_counter()\n\u001b[1;32m     33\u001b[0m     runtime \u001b[39m=\u001b[39m end \u001b[39m-\u001b[39m start\n",
      "File \u001b[0;32m/home/devkami/pythonmations/kami-reports/kami_reports/venv/lib/python3.10/site-packages/kami_logging/kami_logging.py:49\u001b[0m, in \u001b[0;36mlogging_with.<locals>.decorator.<locals>.wrapper\u001b[0;34m(*args, **kwargs)\u001b[0m\n\u001b[1;32m     46\u001b[0m \u001b[39m@functools\u001b[39m\u001b[39m.\u001b[39mwraps(func)\n\u001b[1;32m     47\u001b[0m \u001b[39mdef\u001b[39;00m \u001b[39mwrapper\u001b[39m(\u001b[39m*\u001b[39margs: Any, \u001b[39m*\u001b[39m\u001b[39m*\u001b[39mkwargs: Any) \u001b[39m-\u001b[39m\u001b[39m>\u001b[39m Any:\n\u001b[1;32m     48\u001b[0m     logger\u001b[39m.\u001b[39minfo(\u001b[39mf\u001b[39m\u001b[39m'\u001b[39m\u001b[39mCalling \u001b[39m\u001b[39m{\u001b[39;00mfunc\u001b[39m.\u001b[39m\u001b[39m__name__\u001b[39m\u001b[39m}\u001b[39;00m\u001b[39m'\u001b[39m)\n\u001b[0;32m---> 49\u001b[0m     result \u001b[39m=\u001b[39m func(\u001b[39m*\u001b[39;49margs, \u001b[39m*\u001b[39;49m\u001b[39m*\u001b[39;49mkwargs)\n\u001b[1;32m     50\u001b[0m     logger\u001b[39m.\u001b[39minfo(\u001b[39mf\u001b[39m\u001b[39m'\u001b[39m\u001b[39mFinished Calling \u001b[39m\u001b[39m{\u001b[39;00mfunc\u001b[39m.\u001b[39m\u001b[39m__name__\u001b[39m\u001b[39m}\u001b[39;00m\u001b[39m'\u001b[39m)\n\u001b[1;32m     51\u001b[0m     \u001b[39mreturn\u001b[39;00m result\n",
      "File \u001b[0;32m/home/devkami/pythonmations/kami-reports/kami_reports/mkt_automation.py:40\u001b[0m, in \u001b[0;36mdelivery_sellers_message\u001b[0;34m(beexp_orders_df)\u001b[0m\n\u001b[1;32m     36\u001b[0m \u001b[39m@benchmark_with\u001b[39m(mkt_automation_logger)\n\u001b[1;32m     37\u001b[0m \u001b[39m@logging_with\u001b[39m(mkt_automation_logger)\n\u001b[1;32m     38\u001b[0m \u001b[39mdef\u001b[39;00m \u001b[39mdelivery_sellers_message\u001b[39m(beexp_orders_df):\n\u001b[1;32m     39\u001b[0m     \u001b[39mfor\u001b[39;00m seller_id \u001b[39min\u001b[39;00m beexp_orders_df[\u001b[39m'\u001b[39m\u001b[39mcod_colaborador\u001b[39m\u001b[39m'\u001b[39m]:\n\u001b[0;32m---> 40\u001b[0m         send_message_by_seller_id(\n\u001b[1;32m     41\u001b[0m             contact_id\u001b[39m=\u001b[39;49mseller_id,\n\u001b[1;32m     42\u001b[0m             template_name\u001b[39m=\u001b[39;49m\u001b[39m'\u001b[39;49m\u001b[39mbeexp_manager\u001b[39;49m\u001b[39m'\u001b[39;49m,\n\u001b[1;32m     43\u001b[0m             message_dict\u001b[39m=\u001b[39;49m{\u001b[39m'\u001b[39;49m\u001b[39msubject\u001b[39;49m\u001b[39m'\u001b[39;49m: \u001b[39m'\u001b[39;49m\u001b[39mVendas BEEXP\u001b[39;49m\u001b[39m'\u001b[39;49m}\n\u001b[1;32m     44\u001b[0m         )\n",
      "File \u001b[0;32m/home/devkami/pythonmations/kami-reports/kami_reports/venv/lib/python3.10/site-packages/kami_logging/kami_logging.py:49\u001b[0m, in \u001b[0;36mlogging_with.<locals>.decorator.<locals>.wrapper\u001b[0;34m(*args, **kwargs)\u001b[0m\n\u001b[1;32m     46\u001b[0m \u001b[39m@functools\u001b[39m\u001b[39m.\u001b[39mwraps(func)\n\u001b[1;32m     47\u001b[0m \u001b[39mdef\u001b[39;00m \u001b[39mwrapper\u001b[39m(\u001b[39m*\u001b[39margs: Any, \u001b[39m*\u001b[39m\u001b[39m*\u001b[39mkwargs: Any) \u001b[39m-\u001b[39m\u001b[39m>\u001b[39m Any:\n\u001b[1;32m     48\u001b[0m     logger\u001b[39m.\u001b[39minfo(\u001b[39mf\u001b[39m\u001b[39m'\u001b[39m\u001b[39mCalling \u001b[39m\u001b[39m{\u001b[39;00mfunc\u001b[39m.\u001b[39m\u001b[39m__name__\u001b[39m\u001b[39m}\u001b[39;00m\u001b[39m'\u001b[39m)\n\u001b[0;32m---> 49\u001b[0m     result \u001b[39m=\u001b[39m func(\u001b[39m*\u001b[39;49margs, \u001b[39m*\u001b[39;49m\u001b[39m*\u001b[39;49mkwargs)\n\u001b[1;32m     50\u001b[0m     logger\u001b[39m.\u001b[39minfo(\u001b[39mf\u001b[39m\u001b[39m'\u001b[39m\u001b[39mFinished Calling \u001b[39m\u001b[39m{\u001b[39;00mfunc\u001b[39m.\u001b[39m\u001b[39m__name__\u001b[39m\u001b[39m}\u001b[39;00m\u001b[39m'\u001b[39m)\n\u001b[1;32m     51\u001b[0m     \u001b[39mreturn\u001b[39;00m result\n",
      "File \u001b[0;32m/home/devkami/pythonmations/kami-reports/kami_reports/venv/lib/python3.10/site-packages/kami_logging/kami_logging.py:31\u001b[0m, in \u001b[0;36mbenchmark_with.<locals>.decorator.<locals>.wrapper\u001b[0;34m(*args, **kwargs)\u001b[0m\n\u001b[1;32m     28\u001b[0m \u001b[39m@functools\u001b[39m\u001b[39m.\u001b[39mwraps(func)\n\u001b[1;32m     29\u001b[0m \u001b[39mdef\u001b[39;00m \u001b[39mwrapper\u001b[39m(\u001b[39m*\u001b[39margs: Any, \u001b[39m*\u001b[39m\u001b[39m*\u001b[39mkwargs: Any) \u001b[39m-\u001b[39m\u001b[39m>\u001b[39m Any:\n\u001b[1;32m     30\u001b[0m     start \u001b[39m=\u001b[39m perf_counter()\n\u001b[0;32m---> 31\u001b[0m     result \u001b[39m=\u001b[39m func(\u001b[39m*\u001b[39;49margs, \u001b[39m*\u001b[39;49m\u001b[39m*\u001b[39;49mkwargs)\n\u001b[1;32m     32\u001b[0m     end \u001b[39m=\u001b[39m perf_counter()\n\u001b[1;32m     33\u001b[0m     runtime \u001b[39m=\u001b[39m end \u001b[39m-\u001b[39m start\n",
      "File \u001b[0;32m/home/devkami/pythonmations/kami-reports/kami_reports/messages.py:143\u001b[0m, in \u001b[0;36msend_message_by_seller_id\u001b[0;34m(contact_id, template_name, message_dict)\u001b[0m\n\u001b[1;32m    141\u001b[0m sellers_contacts \u001b[39m=\u001b[39m filter_contact_by_group(contacts, \u001b[39m'\u001b[39m\u001b[39mseller\u001b[39m\u001b[39m'\u001b[39m)    \n\u001b[1;32m    142\u001b[0m contact \u001b[39m=\u001b[39m get_contact_by_id(contact_id, sellers_contacts)\n\u001b[0;32m--> 143\u001b[0m message \u001b[39m=\u001b[39m generate_message_by_template(template_name, contact, message_dict)\n\u001b[1;32m    144\u001b[0m send_message_by_all_messengers(message, contact)\n",
      "File \u001b[0;32m/home/devkami/pythonmations/kami-reports/kami_reports/venv/lib/python3.10/site-packages/kami_logging/kami_logging.py:49\u001b[0m, in \u001b[0;36mlogging_with.<locals>.decorator.<locals>.wrapper\u001b[0;34m(*args, **kwargs)\u001b[0m\n\u001b[1;32m     46\u001b[0m \u001b[39m@functools\u001b[39m\u001b[39m.\u001b[39mwraps(func)\n\u001b[1;32m     47\u001b[0m \u001b[39mdef\u001b[39;00m \u001b[39mwrapper\u001b[39m(\u001b[39m*\u001b[39margs: Any, \u001b[39m*\u001b[39m\u001b[39m*\u001b[39mkwargs: Any) \u001b[39m-\u001b[39m\u001b[39m>\u001b[39m Any:\n\u001b[1;32m     48\u001b[0m     logger\u001b[39m.\u001b[39minfo(\u001b[39mf\u001b[39m\u001b[39m'\u001b[39m\u001b[39mCalling \u001b[39m\u001b[39m{\u001b[39;00mfunc\u001b[39m.\u001b[39m\u001b[39m__name__\u001b[39m\u001b[39m}\u001b[39;00m\u001b[39m'\u001b[39m)\n\u001b[0;32m---> 49\u001b[0m     result \u001b[39m=\u001b[39m func(\u001b[39m*\u001b[39;49margs, \u001b[39m*\u001b[39;49m\u001b[39m*\u001b[39;49mkwargs)\n\u001b[1;32m     50\u001b[0m     logger\u001b[39m.\u001b[39minfo(\u001b[39mf\u001b[39m\u001b[39m'\u001b[39m\u001b[39mFinished Calling \u001b[39m\u001b[39m{\u001b[39;00mfunc\u001b[39m.\u001b[39m\u001b[39m__name__\u001b[39m\u001b[39m}\u001b[39;00m\u001b[39m'\u001b[39m)\n\u001b[1;32m     51\u001b[0m     \u001b[39mreturn\u001b[39;00m result\n",
      "File \u001b[0;32m/home/devkami/pythonmations/kami-reports/kami_reports/venv/lib/python3.10/site-packages/kami_logging/kami_logging.py:31\u001b[0m, in \u001b[0;36mbenchmark_with.<locals>.decorator.<locals>.wrapper\u001b[0;34m(*args, **kwargs)\u001b[0m\n\u001b[1;32m     28\u001b[0m \u001b[39m@functools\u001b[39m\u001b[39m.\u001b[39mwraps(func)\n\u001b[1;32m     29\u001b[0m \u001b[39mdef\u001b[39;00m \u001b[39mwrapper\u001b[39m(\u001b[39m*\u001b[39margs: Any, \u001b[39m*\u001b[39m\u001b[39m*\u001b[39mkwargs: Any) \u001b[39m-\u001b[39m\u001b[39m>\u001b[39m Any:\n\u001b[1;32m     30\u001b[0m     start \u001b[39m=\u001b[39m perf_counter()\n\u001b[0;32m---> 31\u001b[0m     result \u001b[39m=\u001b[39m func(\u001b[39m*\u001b[39;49margs, \u001b[39m*\u001b[39;49m\u001b[39m*\u001b[39;49mkwargs)\n\u001b[1;32m     32\u001b[0m     end \u001b[39m=\u001b[39m perf_counter()\n\u001b[1;32m     33\u001b[0m     runtime \u001b[39m=\u001b[39m end \u001b[39m-\u001b[39m start\n",
      "File \u001b[0;32m/home/devkami/pythonmations/kami-reports/kami_reports/messages.py:75\u001b[0m, in \u001b[0;36mgenerate_message_by_template\u001b[0;34m(template_name, contact, message_dict)\u001b[0m\n\u001b[1;32m     71\u001b[0m \u001b[39m@logging_with\u001b[39m(messages_looger)\n\u001b[1;32m     72\u001b[0m \u001b[39m@benchmark_with\u001b[39m(messages_looger)\n\u001b[1;32m     73\u001b[0m \u001b[39mdef\u001b[39;00m \u001b[39mgenerate_message_by_template\u001b[39m(template_name: \u001b[39mstr\u001b[39m, contact: Contact, message_dict: Dict) \u001b[39m-\u001b[39m\u001b[39m>\u001b[39m Message \u001b[39m|\u001b[39m \u001b[39mNone\u001b[39;00m:\n\u001b[1;32m     74\u001b[0m     message_template \u001b[39m=\u001b[39m template_env\u001b[39m.\u001b[39mget_template(\u001b[39mf\u001b[39m\u001b[39m'\u001b[39m\u001b[39m{\u001b[39;00mtemplate_name\u001b[39m}\u001b[39;00m\u001b[39m_message.md\u001b[39m\u001b[39m'\u001b[39m)\n\u001b[0;32m---> 75\u001b[0m     message_dict[\u001b[39m'\u001b[39m\u001b[39mcontact_name\u001b[39m\u001b[39m'\u001b[39m] \u001b[39m=\u001b[39m contact\u001b[39m.\u001b[39;49mname\n\u001b[1;32m     76\u001b[0m     message_body \u001b[39m=\u001b[39m message_template\u001b[39m.\u001b[39mrender(message_dict)\n\u001b[1;32m     77\u001b[0m     \u001b[39mreturn\u001b[39;00m Message(\n\u001b[1;32m     78\u001b[0m         sender\u001b[39m=\u001b[39m\u001b[39m'\u001b[39m\u001b[39m'\u001b[39m,\n\u001b[1;32m     79\u001b[0m         recipients\u001b[39m=\u001b[39m[],\n\u001b[1;32m     80\u001b[0m         body\u001b[39m=\u001b[39mmessage_body,\n\u001b[1;32m     81\u001b[0m         subject\u001b[39m=\u001b[39mmessage_dict[\u001b[39m'\u001b[39m\u001b[39msubject\u001b[39m\u001b[39m'\u001b[39m]\n\u001b[1;32m     82\u001b[0m     )\n",
      "\u001b[0;31mAttributeError\u001b[0m: 'NoneType' object has no attribute 'name'"
     ]
    }
   ],
   "source": [
    "alert_beexp_order()"
   ]
  }
 ],
 "metadata": {
  "kernelspec": {
   "display_name": "Python 3",
   "language": "python",
   "name": "python3"
  },
  "language_info": {
   "codemirror_mode": {
    "name": "ipython",
    "version": 3
   },
   "file_extension": ".py",
   "mimetype": "text/x-python",
   "name": "python",
   "nbconvert_exporter": "python",
   "pygments_lexer": "ipython3",
   "version": "3.10.12"
  },
  "orig_nbformat": 4
 },
 "nbformat": 4,
 "nbformat_minor": 2
}
